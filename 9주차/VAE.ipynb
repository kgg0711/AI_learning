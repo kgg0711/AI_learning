{
 "cells": [
  {
   "cell_type": "code",
   "execution_count": 62,
   "id": "ebb4fa92-502e-474d-b323-20733876e390",
   "metadata": {},
   "outputs": [],
   "source": [
    "from datetime import datetime\n",
    "import matplotlib.pyplot as plt\n",
    "import numpy as np\n",
    "import pandas as pd\n",
    "import tensorflow as tf\n",
    "from tensorflow.keras.layers import Input, Dense, Lambda\n",
    "from tensorflow.keras.models import Model\n",
    "from tensorflow.keras import backend as K\n",
    "from sklearn.preprocessing import MinMaxScaler\n",
    "from sklearn.model_selection import train_test_split"
   ]
  },
  {
   "cell_type": "code",
   "execution_count": 63,
   "id": "7c3d5985-9543-4de9-915c-fc2e12c034c2",
   "metadata": {},
   "outputs": [],
   "source": [
    "data = pd.read_csv('C:\\\\AIdata\\\\diabetes.csv')"
   ]
  },
  {
   "cell_type": "code",
   "execution_count": 64,
   "id": "f961b0ee-64e1-497c-8e05-a9e37dc21819",
   "metadata": {},
   "outputs": [],
   "source": [
    "features = data.drop(columns=['Outcome'])"
   ]
  },
  {
   "cell_type": "code",
   "execution_count": 65,
   "id": "65418653-3602-49db-b53f-fcdb9e5caaef",
   "metadata": {},
   "outputs": [],
   "source": [
    "scaler = MinMaxScaler()\n",
    "features_scaled = scaler.fit_transform(features)"
   ]
  },
  {
   "cell_type": "code",
   "execution_count": 66,
   "id": "b45a5fcd-7650-47d1-b531-1842efde15bc",
   "metadata": {},
   "outputs": [],
   "source": [
    "X_train, X_test = train_test_split(features_scaled, test_size=0.2, random_state=42)"
   ]
  },
  {
   "cell_type": "code",
   "execution_count": 67,
   "id": "2f506d1e-a179-4835-9ceb-1ba8e7208e97",
   "metadata": {},
   "outputs": [],
   "source": [
    "input_dim = X_train.shape[1]\n",
    "latent_dim = 2\n",
    "intermediate_dim = 64"
   ]
  },
  {
   "cell_type": "code",
   "execution_count": 68,
   "id": "1112179b-d583-46eb-9a82-ed8e587f32fb",
   "metadata": {},
   "outputs": [],
   "source": [
    "inputs = Input(shape=(input_dim,))\n",
    "h = Dense(intermediate_dim, activation='relu')(inputs)\n",
    "z_mean = Dense(latent_dim)(h)\n",
    "z_log_var = Dense(latent_dim)(h)"
   ]
  },
  {
   "cell_type": "code",
   "execution_count": 69,
   "id": "6499c4bf-d722-49dd-babe-ed3a8a2f2a16",
   "metadata": {},
   "outputs": [],
   "source": [
    "def sampling(args):\n",
    "    z_mean, z_log_var = args\n",
    "    epsilon = K.random_normal(shape=(K.shape(z_mean)[0], latent_dim))\n",
    "    return z_mean + K.exp(0.5 * z_log_var) * epsilon"
   ]
  },
  {
   "cell_type": "code",
   "execution_count": 70,
   "id": "4fdec36e-c541-484c-81a9-d4499c76fa2e",
   "metadata": {},
   "outputs": [],
   "source": [
    "z = Lambda(sampling)([z_mean, z_log_var])"
   ]
  },
  {
   "cell_type": "code",
   "execution_count": 71,
   "id": "22b14c9c-031a-4449-9932-f65b66218e00",
   "metadata": {},
   "outputs": [],
   "source": [
    "decoder_h = Dense(intermediate_dim, activation='relu')\n",
    "decoder_mean = Dense(input_dim, activation='sigmoid')\n",
    "h_decoded = decoder_h(z)\n",
    "x_decoded_mean = decoder_mean(h_decoded)"
   ]
  },
  {
   "cell_type": "code",
   "execution_count": 72,
   "id": "35a2a173-b6e9-4d33-8c8c-3ab22b3a0cb4",
   "metadata": {},
   "outputs": [],
   "source": [
    "vae = Model(inputs, x_decoded_mean)"
   ]
  },
  {
   "cell_type": "code",
   "execution_count": 73,
   "id": "58a40d83-cd14-4114-bf6a-8c88358a1674",
   "metadata": {},
   "outputs": [],
   "source": [
    "reconstruction_loss = Lambda(lambda x: K.sum(K.square(x[0] - x[1]), axis=-1), \n",
    "                             output_shape=(1,))([inputs, x_decoded_mean])\n",
    "kl_loss = Lambda(lambda x: -0.5 * K.sum(1 + x[1] - K.square(x[0]) - K.exp(x[1]), axis=-1), \n",
    "                 output_shape=(1,))([z_mean, z_log_var])"
   ]
  },
  {
   "cell_type": "code",
   "execution_count": 74,
   "id": "66da2e84-6dc7-45c9-87d8-cc2bc5348f57",
   "metadata": {},
   "outputs": [
    {
     "ename": "AttributeError",
     "evalue": "'str' object has no attribute 'base_dtype'",
     "output_type": "error",
     "traceback": [
      "\u001b[1;31m---------------------------------------------------------------------------\u001b[0m",
      "\u001b[1;31mAttributeError\u001b[0m                            Traceback (most recent call last)",
      "Cell \u001b[1;32mIn[74], line 1\u001b[0m\n\u001b[1;32m----> 1\u001b[0m vae\u001b[38;5;241m.\u001b[39madd_loss(K\u001b[38;5;241m.\u001b[39mmean(reconstruction_loss \u001b[38;5;241m+\u001b[39m kl_loss))\n",
      "File \u001b[1;32m~\\anaconda3\\envs\\learning3\\Lib\\site-packages\\keras\\src\\legacy\\backend.py:1021\u001b[0m, in \u001b[0;36mmean\u001b[1;34m(x, axis, keepdims)\u001b[0m\n\u001b[0;32m   1018\u001b[0m \u001b[38;5;129m@keras_export\u001b[39m(\u001b[38;5;124m\"\u001b[39m\u001b[38;5;124mkeras._legacy.backend.mean\u001b[39m\u001b[38;5;124m\"\u001b[39m)\n\u001b[0;32m   1019\u001b[0m \u001b[38;5;28;01mdef\u001b[39;00m \u001b[38;5;21mmean\u001b[39m(x, axis\u001b[38;5;241m=\u001b[39m\u001b[38;5;28;01mNone\u001b[39;00m, keepdims\u001b[38;5;241m=\u001b[39m\u001b[38;5;28;01mFalse\u001b[39;00m):\n\u001b[0;32m   1020\u001b[0m \u001b[38;5;250m    \u001b[39m\u001b[38;5;124;03m\"\"\"DEPRECATED.\"\"\"\u001b[39;00m\n\u001b[1;32m-> 1021\u001b[0m     \u001b[38;5;28;01mif\u001b[39;00m x\u001b[38;5;241m.\u001b[39mdtype\u001b[38;5;241m.\u001b[39mbase_dtype \u001b[38;5;241m==\u001b[39m tf\u001b[38;5;241m.\u001b[39mbool:\n\u001b[0;32m   1022\u001b[0m         x \u001b[38;5;241m=\u001b[39m tf\u001b[38;5;241m.\u001b[39mcast(x, backend\u001b[38;5;241m.\u001b[39mfloatx())\n\u001b[0;32m   1023\u001b[0m     \u001b[38;5;28;01mreturn\u001b[39;00m tf\u001b[38;5;241m.\u001b[39mreduce_mean(x, axis, keepdims)\n",
      "\u001b[1;31mAttributeError\u001b[0m: 'str' object has no attribute 'base_dtype'"
     ]
    }
   ],
   "source": [
    "vae.add_loss(K.mean(reconstruction_loss + kl_loss))"
   ]
  },
  {
   "cell_type": "code",
   "execution_count": null,
   "id": "ddb9c42b-aea7-45f5-a420-c6aca6ff17a3",
   "metadata": {},
   "outputs": [],
   "source": [
    "vae.compile(optimizer='adam')"
   ]
  },
  {
   "cell_type": "code",
   "execution_count": null,
   "id": "c5a83085-a210-424d-80e5-f097e2f6215c",
   "metadata": {},
   "outputs": [],
   "source": [
    "vae.fit(X_train, X_train, epochs=50, batch_size=32, validation_data=(X_test, X_test))"
   ]
  },
  {
   "cell_type": "code",
   "execution_count": null,
   "id": "45194c13-3b22-44d0-a4b8-252b44bbf45d",
   "metadata": {},
   "outputs": [],
   "source": [
    "encoder = Model(inputs, z_mean)\n",
    "z_test = encoder.predict(X_test)"
   ]
  },
  {
   "cell_type": "code",
   "execution_count": null,
   "id": "1665c7a5-7d99-4404-a25d-51fc12d1b2cf",
   "metadata": {},
   "outputs": [],
   "source": [
    "plt.figure(figsize=(8, 6))\n",
    "plt.scatter(z_test[:, 0], z_test[:, 1], c=data['Outcome'].values[:len(z_test)], cmap='viridis')\n",
    "plt.colorbar()\n",
    "plt.xlabel(\"z[0]\")\n",
    "plt.ylabel(\"z[1]\")\n",
    "plt.show()"
   ]
  }
 ],
 "metadata": {
  "kernelspec": {
   "display_name": "Python 3 (ipykernel)",
   "language": "python",
   "name": "python3"
  },
  "language_info": {
   "codemirror_mode": {
    "name": "ipython",
    "version": 3
   },
   "file_extension": ".py",
   "mimetype": "text/x-python",
   "name": "python",
   "nbconvert_exporter": "python",
   "pygments_lexer": "ipython3",
   "version": "3.12.4"
  }
 },
 "nbformat": 4,
 "nbformat_minor": 5
}
