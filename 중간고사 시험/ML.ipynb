{
 "cells": [
  {
   "cell_type": "code",
   "execution_count": null,
   "id": "9f57ab5e-5d71-4302-b5ef-52a51e2fffcc",
   "metadata": {},
   "outputs": [],
   "source": [
    "import numpy as np\n",
    "import matplotlib.pyplot as plt\n",
    "import pandas as pd\n",
    "import seaborn as sns\n",
    "from scipy import stats"
   ]
  },
  {
   "cell_type": "code",
   "execution_count": null,
   "id": "6e5325e4-e09f-424f-9dbd-0adc0b78bd13",
   "metadata": {},
   "outputs": [],
   "source": [
    "import numpy as np\n",
    "import pandas as pd\n",
    "import seaborn as sns\n",
    "from sklearn.model_selection import train_test_split\n",
    "import tensorflow as tf\n",
    "from tensorflow import keras"
   ]
  },
  {
   "cell_type": "code",
   "execution_count": null,
   "id": "6536a6a0-b9cd-4329-be6b-1e71f8965036",
   "metadata": {},
   "outputs": [],
   "source": [
    "df = pd.read_csv(\"https://raw.githubusercontent.com/mwaskom/seaborn-data/master/diamonds.csv\")\n",
    "df"
   ]
  },
  {
   "cell_type": "code",
   "execution_count": null,
   "id": "2157ffd9-f394-4a56-934f-d16079049269",
   "metadata": {},
   "outputs": [],
   "source": [
    "df = df [['carat','depth','table','price','x','y','z']]"
   ]
  },
  {
   "cell_type": "code",
   "execution_count": null,
   "id": "ca6dd39e-d2c7-4555-aa9b-459d3556d7d2",
   "metadata": {},
   "outputs": [],
   "source": [
    "df"
   ]
  },
  {
   "cell_type": "code",
   "execution_count": null,
   "id": "48fce389-53a6-49c8-b4a9-acfb18fcb722",
   "metadata": {},
   "outputs": [],
   "source": [
    "from sklearn.model_selection import train_test_split\n",
    "from sklearn.linear_model import LinearRegression\n",
    "from sklearn.metrics import mean_squared_error, r2_score"
   ]
  },
  {
   "cell_type": "code",
   "execution_count": null,
   "id": "5a2becda-0c92-454e-8674-294e8f1e3a91",
   "metadata": {},
   "outputs": [],
   "source": [
    "X = df.drop('y',axis=1)\n",
    "X.head()"
   ]
  },
  {
   "cell_type": "code",
   "execution_count": null,
   "id": "42725d73-e7a0-43bd-b05b-d6d05f0a6a31",
   "metadata": {},
   "outputs": [],
   "source": [
    "y = df['y']\n",
    "y.head()"
   ]
  },
  {
   "cell_type": "code",
   "execution_count": null,
   "id": "7fba0807-545c-49c9-9d08-0792a6e90a95",
   "metadata": {},
   "outputs": [],
   "source": [
    "from sklearn.model_selection import train_test_split \n",
    "#함수를 가져와, 데이터를 훈련 세트와 테스트 세트로 나눔\n",
    "\n",
    "X_train, X_test, y_train, y_test=train_test_split(\n",
    "    X, # X는 독립 변수(특징 데이터), y는 종속 변수(타깃 값)\n",
    "    y,\n",
    "    test_size=0.2, # **test_size=0.2**는 데이터의 20%를 테스트 세트로, 80%를 훈련 세트로 사용하겠다는 의미\n",
    "    shuffle=True, # 데이터를 무작위로 섞어 훈련 및 테스트 세트에 배치하는 옵션\n",
    "    random_state=12\n",
    "    )\n",
    "    \n",
    "print(X_train.shape, y_train.shape)\n",
    "print(X_test.shape, y_test.shape)"
   ]
  },
  {
   "cell_type": "code",
   "execution_count": null,
   "id": "4f987793-1226-4b80-99e6-02e035b59f62",
   "metadata": {},
   "outputs": [],
   "source": [
    "from sklearn.linear_model import LinearRegression #  선형 회귀 모델\n",
    "from sklearn.metrics import mean_squared_error # 평균제곱오차(MSE)"
   ]
  },
  {
   "cell_type": "code",
   "execution_count": null,
   "id": "550fb818-8d7b-4e91-80e1-e289a007637b",
   "metadata": {},
   "outputs": [],
   "source": [
    "model = LinearRegression() #객체 저장\n",
    "model.fit(X_train, y_train) # 훈련 데이터를 이용해 선형 회귀 모델을 훈련(fit)\n",
    "ly_preds = model.predict(X_test) #훈련된 모델을 사용해 테스트 세트인 X_test의 예측값을 구해 ly_preds에 저장"
   ]
  },
  {
   "cell_type": "code",
   "execution_count": null,
   "id": "15ff4ff4-7519-4871-8ef6-4d40706dea04",
   "metadata": {},
   "outputs": [],
   "source": [
    "print('평균제곱근오차', mean_squared_error(ly_preds, y_test))"
   ]
  },
  {
   "cell_type": "code",
   "execution_count": null,
   "id": "c78df711-f06d-4667-a146-61068d21dde4",
   "metadata": {},
   "outputs": [],
   "source": [
    "def mse_np(actual, predicted):\n",
    "    return np.mean((np.array(actual) - np.array(predicted)) ** 2)"
   ]
  },
  {
   "cell_type": "code",
   "execution_count": null,
   "id": "c700c3dc-1a17-4ed1-865b-4a3d9b4fa47c",
   "metadata": {},
   "outputs": [],
   "source": [
    "print('평균제곱근오차', mse_np(ly_preds, y_test))"
   ]
  },
  {
   "cell_type": "code",
   "execution_count": null,
   "id": "61ad1d34-e424-49aa-9a63-187f9f8dc62c",
   "metadata": {},
   "outputs": [],
   "source": [
    "def mse(actual, predicted): # 파이썬 기본 기능을 사용해 MSE를 계산하는 함수를 정의\n",
    "    sum_square_error = sum((a - p) ** 2 for a, p in zip(actual, predicted)) #실제값과 예측값의 차이를 제곱한 값을 모두 더함\n",
    "    mean_square_error = sum_square_error / len(actual) #그 값을 데이터 포인트 수로 나누어 평균을 계산\n",
    "    return mean_square_error  "
   ]
  },
  {
   "cell_type": "code",
   "execution_count": null,
   "id": "dcc4d2cc-29d2-437a-a587-a3b098c9bf87",
   "metadata": {},
   "outputs": [],
   "source": [
    "print('평균제곱근오차', mse(ly_preds, y_test)) #함수를 호출해 파이썬 코드로 MSE를 계산하고 출력"
   ]
  },
  {
   "cell_type": "code",
   "execution_count": null,
   "id": "da59c22f-699d-4fd0-97bb-e799cb8596a5",
   "metadata": {},
   "outputs": [],
   "source": [
    "# 예측값과 실제 값 차이를 산접도로 표시, 노란색 예측\n",
    "\n",
    "plt.figure(figsize=(10,5))\n",
    "plt.scatter(X_test['price'], y_test, label='y_test') #(피부 두께) 데이터를 x축으로 설정하고, **y_test**를 y축으로 설정\n",
    "plt.scatter(X_test['price'], ly_preds, c='y', label='ly_preds') #선형 회귀 모델이 예측한 값(ly_preds)**을 산점도\n",
    "#plt.plot(X_train, lr.predict(X_train), color='blue')\n",
    "plt.show() "
   ]
  },
  {
   "cell_type": "code",
   "execution_count": null,
   "id": "147b12b6-1c36-4de1-87a5-7a7a16fbcf8b",
   "metadata": {},
   "outputs": [],
   "source": [
    "from sklearn.tree import DecisionTreeRegressor #결정 트리 회귀 모델\n",
    "\n",
    "model = DecisionTreeRegressor()\n",
    "model.fit(X_train, y_train)\n",
    "\n",
    "from sklearn.metrics import mean_squared_error\n",
    "\n",
    "dy_preds = model.predict(X_test) #테스트 세트(X_test)**의 예측값을 구하여 **dy_preds**에 저장\n",
    "print('평균제곱근오차', mean_squared_error(dy_preds, y_test))\n",
    "# 실제값(y_test)**과 예측값(dy_preds) 사이의 **평균제곱오차(MSE)**를 계산"
   ]
  },
  {
   "cell_type": "code",
   "execution_count": null,
   "id": "d419980d-a8f6-4541-8219-56e531ab13fa",
   "metadata": {},
   "outputs": [],
   "source": [
    "plt.figure(figsize=(10,5))\n",
    "plt.scatter(X_test['price'], y_test, label='y_test')\n",
    "plt.scatter(X_test['price'], dy_preds, c='g', label='dy_preds')\n",
    "plt.show()         "
   ]
  },
  {
   "cell_type": "code",
   "execution_count": null,
   "id": "68befe30-74e6-4ee1-8da3-d8d0b8f09b49",
   "metadata": {},
   "outputs": [],
   "source": [
    "from sklearn.ensemble import RandomForestRegressor\n",
    "\n",
    "model = RandomForestRegressor()\n",
    "model.fit(X_train, y_train)\n",
    "\n",
    "from sklearn.metrics import mean_squared_error\n",
    "\n",
    "ry_preds = model.predict(X_test)\n",
    "print('평균제곱근오차', mean_squared_error(ry_preds, y_test))"
   ]
  },
  {
   "cell_type": "code",
   "execution_count": null,
   "id": "1624aeb4-89db-4283-8b78-1d5ea9a9199b",
   "metadata": {
    "scrolled": true
   },
   "outputs": [],
   "source": [
    "plt.figure(figsize=(10,5))\n",
    "plt.scatter(X_test['price'], y_test, label='y_test')\n",
    "plt.scatter(X_test['price'], ry_preds, c='orange', label='ry_preds')\n",
    "\n",
    "plt.show() "
   ]
  },
  {
   "cell_type": "code",
   "execution_count": null,
   "id": "60f32c5f-6869-4e89-9bd0-c1262403e50d",
   "metadata": {},
   "outputs": [],
   "source": []
  }
 ],
 "metadata": {
  "kernelspec": {
   "display_name": "Python 3 (ipykernel)",
   "language": "python",
   "name": "python3"
  },
  "language_info": {
   "codemirror_mode": {
    "name": "ipython",
    "version": 3
   },
   "file_extension": ".py",
   "mimetype": "text/x-python",
   "name": "python",
   "nbconvert_exporter": "python",
   "pygments_lexer": "ipython3",
   "version": "3.12.4"
  }
 },
 "nbformat": 4,
 "nbformat_minor": 5
}
